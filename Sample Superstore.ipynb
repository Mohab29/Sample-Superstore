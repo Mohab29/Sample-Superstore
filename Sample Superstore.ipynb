{
 "cells": [
  {
   "cell_type": "markdown",
   "id": "0a262744",
   "metadata": {},
   "source": [
    "# Project: Sample Superstore\n",
    "\n",
    "## Table of Contents\n",
    "<ul>\n",
    "<li><a href=\"#intro\">Introduction</a></li>\n",
    "<li><a href=\"#wrangling\">Data Wrangling</a></li>\n",
    "    <ul>\n",
    "    <li><a href=\"#ass\">Data Assessing</a></li>\n",
    "    <li><a href=\"#cln\">Data Cleaning</a></li>\n",
    "    </ul>\n",
    "<li><a href=\"#eda\">Data Exploratory</a></li>\n",
    "<li><a href=\"#conc\">Conclusions</a></li>\n",
    "</ul>"
   ]
  },
  {
   "cell_type": "markdown",
   "id": "c60233ae",
   "metadata": {},
   "source": [
    "<a id='intro'></a>\n",
    "## Introduction\n",
    "\n",
    "> ### Dataset Description\n",
    "> This dataset shows the shipped goods to USA superstore, collects information from 9994 item, Each row represents a item, each column contains item’s attributes\n",
    "\n",
    "> **We will try to find out the weak areas where we can work to make more profit and derive all business problems**"
   ]
  },
  {
   "cell_type": "markdown",
   "id": "dbf29c38",
   "metadata": {},
   "source": [
    ">### columns description\n",
    ">- Ship Mode : Mode of shipping used for shipment delivery\n",
    ">- Segment : Customer segment product was shipped to\n",
    ">- Country : Country in which the shipment was delivered\n",
    ">- City : City in which shipment was delivered\n",
    ">- State : State in which the shipment was delivered\n",
    ">- Postal Code : Postal code the shipment was delivered to\n",
    ">- Region : Country region\n",
    ">- Category : The category product belongs to\n",
    ">- Sub-Category : Sub-category of the product\n",
    ">- Sales : Sale made in USD\n",
    ">- Quantity : Product quantity\n",
    ">- Discount : Discount given on the product\n",
    ">- Profit : Profit/loss made on the sale"
   ]
  },
  {
   "cell_type": "code",
   "execution_count": 1,
   "id": "72b5d951",
   "metadata": {},
   "outputs": [],
   "source": [
    "# Use this cell to set up import statements for all of the packages that you\n",
    "#   plan to use.\n",
    "import numpy as np\n",
    "import pandas as pd\n",
    "import matplotlib.pyplot as plt\n",
    "%matplotlib inline"
   ]
  },
  {
   "cell_type": "markdown",
   "id": "93d32bb7",
   "metadata": {},
   "source": [
    "<a id='wrangling'></a>\n",
    "## Data Wrangling\n",
    "> In this section, We will load in the data, check for cleanliness, and then trim and clean the dataset for analysis."
   ]
  },
  {
   "cell_type": "markdown",
   "id": "d3723fd1",
   "metadata": {},
   "source": [
    "<a id='ass'></a>\n",
    "> ### Data Assessing"
   ]
  },
  {
   "cell_type": "code",
   "execution_count": 2,
   "id": "a4f8c62e",
   "metadata": {},
   "outputs": [
    {
     "data": {
      "text/html": [
       "<div>\n",
       "<style scoped>\n",
       "    .dataframe tbody tr th:only-of-type {\n",
       "        vertical-align: middle;\n",
       "    }\n",
       "\n",
       "    .dataframe tbody tr th {\n",
       "        vertical-align: top;\n",
       "    }\n",
       "\n",
       "    .dataframe thead th {\n",
       "        text-align: right;\n",
       "    }\n",
       "</style>\n",
       "<table border=\"1\" class=\"dataframe\">\n",
       "  <thead>\n",
       "    <tr style=\"text-align: right;\">\n",
       "      <th></th>\n",
       "      <th>Ship Mode</th>\n",
       "      <th>Segment</th>\n",
       "      <th>Country</th>\n",
       "      <th>City</th>\n",
       "      <th>State</th>\n",
       "      <th>Postal Code</th>\n",
       "      <th>Region</th>\n",
       "      <th>Category</th>\n",
       "      <th>Sub-Category</th>\n",
       "      <th>Sales</th>\n",
       "      <th>Quantity</th>\n",
       "      <th>Discount</th>\n",
       "      <th>Profit</th>\n",
       "    </tr>\n",
       "  </thead>\n",
       "  <tbody>\n",
       "    <tr>\n",
       "      <th>0</th>\n",
       "      <td>Second Class</td>\n",
       "      <td>Consumer</td>\n",
       "      <td>United States</td>\n",
       "      <td>Henderson</td>\n",
       "      <td>Kentucky</td>\n",
       "      <td>42420</td>\n",
       "      <td>South</td>\n",
       "      <td>Furniture</td>\n",
       "      <td>Bookcases</td>\n",
       "      <td>261.9600</td>\n",
       "      <td>2</td>\n",
       "      <td>0.00</td>\n",
       "      <td>41.9136</td>\n",
       "    </tr>\n",
       "    <tr>\n",
       "      <th>1</th>\n",
       "      <td>Second Class</td>\n",
       "      <td>Consumer</td>\n",
       "      <td>United States</td>\n",
       "      <td>Henderson</td>\n",
       "      <td>Kentucky</td>\n",
       "      <td>42420</td>\n",
       "      <td>South</td>\n",
       "      <td>Furniture</td>\n",
       "      <td>Chairs</td>\n",
       "      <td>731.9400</td>\n",
       "      <td>3</td>\n",
       "      <td>0.00</td>\n",
       "      <td>219.5820</td>\n",
       "    </tr>\n",
       "    <tr>\n",
       "      <th>2</th>\n",
       "      <td>Second Class</td>\n",
       "      <td>Corporate</td>\n",
       "      <td>United States</td>\n",
       "      <td>Los Angeles</td>\n",
       "      <td>California</td>\n",
       "      <td>90036</td>\n",
       "      <td>West</td>\n",
       "      <td>Office Supplies</td>\n",
       "      <td>Labels</td>\n",
       "      <td>14.6200</td>\n",
       "      <td>2</td>\n",
       "      <td>0.00</td>\n",
       "      <td>6.8714</td>\n",
       "    </tr>\n",
       "    <tr>\n",
       "      <th>3</th>\n",
       "      <td>Standard Class</td>\n",
       "      <td>Consumer</td>\n",
       "      <td>United States</td>\n",
       "      <td>Fort Lauderdale</td>\n",
       "      <td>Florida</td>\n",
       "      <td>33311</td>\n",
       "      <td>South</td>\n",
       "      <td>Furniture</td>\n",
       "      <td>Tables</td>\n",
       "      <td>957.5775</td>\n",
       "      <td>5</td>\n",
       "      <td>0.45</td>\n",
       "      <td>-383.0310</td>\n",
       "    </tr>\n",
       "    <tr>\n",
       "      <th>4</th>\n",
       "      <td>Standard Class</td>\n",
       "      <td>Consumer</td>\n",
       "      <td>United States</td>\n",
       "      <td>Fort Lauderdale</td>\n",
       "      <td>Florida</td>\n",
       "      <td>33311</td>\n",
       "      <td>South</td>\n",
       "      <td>Office Supplies</td>\n",
       "      <td>Storage</td>\n",
       "      <td>22.3680</td>\n",
       "      <td>2</td>\n",
       "      <td>0.20</td>\n",
       "      <td>2.5164</td>\n",
       "    </tr>\n",
       "  </tbody>\n",
       "</table>\n",
       "</div>"
      ],
      "text/plain": [
       "        Ship Mode    Segment        Country             City       State  \\\n",
       "0    Second Class   Consumer  United States        Henderson    Kentucky   \n",
       "1    Second Class   Consumer  United States        Henderson    Kentucky   \n",
       "2    Second Class  Corporate  United States      Los Angeles  California   \n",
       "3  Standard Class   Consumer  United States  Fort Lauderdale     Florida   \n",
       "4  Standard Class   Consumer  United States  Fort Lauderdale     Florida   \n",
       "\n",
       "   Postal Code Region         Category Sub-Category     Sales  Quantity  \\\n",
       "0        42420  South        Furniture    Bookcases  261.9600         2   \n",
       "1        42420  South        Furniture       Chairs  731.9400         3   \n",
       "2        90036   West  Office Supplies       Labels   14.6200         2   \n",
       "3        33311  South        Furniture       Tables  957.5775         5   \n",
       "4        33311  South  Office Supplies      Storage   22.3680         2   \n",
       "\n",
       "   Discount    Profit  \n",
       "0      0.00   41.9136  \n",
       "1      0.00  219.5820  \n",
       "2      0.00    6.8714  \n",
       "3      0.45 -383.0310  \n",
       "4      0.20    2.5164  "
      ]
     },
     "execution_count": 2,
     "metadata": {},
     "output_type": "execute_result"
    }
   ],
   "source": [
    "df = pd.read_csv('SampleSuperstore.csv')\n",
    "df.head()"
   ]
  },
  {
   "cell_type": "code",
   "execution_count": 3,
   "id": "3e8f31dc",
   "metadata": {},
   "outputs": [
    {
     "data": {
      "text/plain": [
       "(9994, 13)"
      ]
     },
     "execution_count": 3,
     "metadata": {},
     "output_type": "execute_result"
    }
   ],
   "source": [
    "df.shape"
   ]
  },
  {
   "cell_type": "markdown",
   "id": "f6bd9a5e",
   "metadata": {},
   "source": [
    "> First, let's inspect data type and looking for missing data."
   ]
  },
  {
   "cell_type": "code",
   "execution_count": 4,
   "id": "16efe2cf",
   "metadata": {},
   "outputs": [
    {
     "name": "stdout",
     "output_type": "stream",
     "text": [
      "<class 'pandas.core.frame.DataFrame'>\n",
      "RangeIndex: 9994 entries, 0 to 9993\n",
      "Data columns (total 13 columns):\n",
      " #   Column        Non-Null Count  Dtype  \n",
      "---  ------        --------------  -----  \n",
      " 0   Ship Mode     9994 non-null   object \n",
      " 1   Segment       9994 non-null   object \n",
      " 2   Country       9994 non-null   object \n",
      " 3   City          9994 non-null   object \n",
      " 4   State         9994 non-null   object \n",
      " 5   Postal Code   9994 non-null   int64  \n",
      " 6   Region        9994 non-null   object \n",
      " 7   Category      9994 non-null   object \n",
      " 8   Sub-Category  9994 non-null   object \n",
      " 9   Sales         9994 non-null   float64\n",
      " 10  Quantity      9994 non-null   int64  \n",
      " 11  Discount      9994 non-null   float64\n",
      " 12  Profit        9994 non-null   float64\n",
      "dtypes: float64(3), int64(2), object(8)\n",
      "memory usage: 1015.1+ KB\n"
     ]
    }
   ],
   "source": [
    "df.info()"
   ]
  },
  {
   "cell_type": "markdown",
   "id": "7bf523d7",
   "metadata": {},
   "source": [
    "> We don't have missing values and we don't need to change the columns data type."
   ]
  },
  {
   "cell_type": "markdown",
   "id": "b2ae6bbe",
   "metadata": {},
   "source": [
    "> Let's check if there are any duplicates in the data."
   ]
  },
  {
   "cell_type": "code",
   "execution_count": 5,
   "id": "8f26c99e",
   "metadata": {},
   "outputs": [
    {
     "data": {
      "text/plain": [
       "17"
      ]
     },
     "execution_count": 5,
     "metadata": {},
     "output_type": "execute_result"
    }
   ],
   "source": [
    "df.duplicated().sum()"
   ]
  },
  {
   "cell_type": "markdown",
   "id": "764d4ffd",
   "metadata": {},
   "source": [
    "> we have 17 identical duplivate row in the data, we will need to remove them."
   ]
  },
  {
   "cell_type": "markdown",
   "id": "6d2e615c",
   "metadata": {},
   "source": [
    "> Now let's cheak if we have any Outliers or mistakes in our columns"
   ]
  },
  {
   "cell_type": "code",
   "execution_count": 6,
   "id": "49c0775f",
   "metadata": {},
   "outputs": [
    {
     "data": {
      "text/html": [
       "<div>\n",
       "<style scoped>\n",
       "    .dataframe tbody tr th:only-of-type {\n",
       "        vertical-align: middle;\n",
       "    }\n",
       "\n",
       "    .dataframe tbody tr th {\n",
       "        vertical-align: top;\n",
       "    }\n",
       "\n",
       "    .dataframe thead th {\n",
       "        text-align: right;\n",
       "    }\n",
       "</style>\n",
       "<table border=\"1\" class=\"dataframe\">\n",
       "  <thead>\n",
       "    <tr style=\"text-align: right;\">\n",
       "      <th></th>\n",
       "      <th>Postal Code</th>\n",
       "      <th>Sales</th>\n",
       "      <th>Quantity</th>\n",
       "      <th>Discount</th>\n",
       "      <th>Profit</th>\n",
       "    </tr>\n",
       "  </thead>\n",
       "  <tbody>\n",
       "    <tr>\n",
       "      <th>count</th>\n",
       "      <td>9994.000000</td>\n",
       "      <td>9994.000000</td>\n",
       "      <td>9994.000000</td>\n",
       "      <td>9994.000000</td>\n",
       "      <td>9994.000000</td>\n",
       "    </tr>\n",
       "    <tr>\n",
       "      <th>mean</th>\n",
       "      <td>55190.379428</td>\n",
       "      <td>229.858001</td>\n",
       "      <td>3.789574</td>\n",
       "      <td>0.156203</td>\n",
       "      <td>28.656896</td>\n",
       "    </tr>\n",
       "    <tr>\n",
       "      <th>std</th>\n",
       "      <td>32063.693350</td>\n",
       "      <td>623.245101</td>\n",
       "      <td>2.225110</td>\n",
       "      <td>0.206452</td>\n",
       "      <td>234.260108</td>\n",
       "    </tr>\n",
       "    <tr>\n",
       "      <th>min</th>\n",
       "      <td>1040.000000</td>\n",
       "      <td>0.444000</td>\n",
       "      <td>1.000000</td>\n",
       "      <td>0.000000</td>\n",
       "      <td>-6599.978000</td>\n",
       "    </tr>\n",
       "    <tr>\n",
       "      <th>25%</th>\n",
       "      <td>23223.000000</td>\n",
       "      <td>17.280000</td>\n",
       "      <td>2.000000</td>\n",
       "      <td>0.000000</td>\n",
       "      <td>1.728750</td>\n",
       "    </tr>\n",
       "    <tr>\n",
       "      <th>50%</th>\n",
       "      <td>56430.500000</td>\n",
       "      <td>54.490000</td>\n",
       "      <td>3.000000</td>\n",
       "      <td>0.200000</td>\n",
       "      <td>8.666500</td>\n",
       "    </tr>\n",
       "    <tr>\n",
       "      <th>75%</th>\n",
       "      <td>90008.000000</td>\n",
       "      <td>209.940000</td>\n",
       "      <td>5.000000</td>\n",
       "      <td>0.200000</td>\n",
       "      <td>29.364000</td>\n",
       "    </tr>\n",
       "    <tr>\n",
       "      <th>max</th>\n",
       "      <td>99301.000000</td>\n",
       "      <td>22638.480000</td>\n",
       "      <td>14.000000</td>\n",
       "      <td>0.800000</td>\n",
       "      <td>8399.976000</td>\n",
       "    </tr>\n",
       "  </tbody>\n",
       "</table>\n",
       "</div>"
      ],
      "text/plain": [
       "        Postal Code         Sales     Quantity     Discount       Profit\n",
       "count   9994.000000   9994.000000  9994.000000  9994.000000  9994.000000\n",
       "mean   55190.379428    229.858001     3.789574     0.156203    28.656896\n",
       "std    32063.693350    623.245101     2.225110     0.206452   234.260108\n",
       "min     1040.000000      0.444000     1.000000     0.000000 -6599.978000\n",
       "25%    23223.000000     17.280000     2.000000     0.000000     1.728750\n",
       "50%    56430.500000     54.490000     3.000000     0.200000     8.666500\n",
       "75%    90008.000000    209.940000     5.000000     0.200000    29.364000\n",
       "max    99301.000000  22638.480000    14.000000     0.800000  8399.976000"
      ]
     },
     "execution_count": 6,
     "metadata": {},
     "output_type": "execute_result"
    }
   ],
   "source": [
    "df.describe()"
   ]
  },
  {
   "cell_type": "markdown",
   "id": "9c0dac8f",
   "metadata": {},
   "source": [
    ">+ The average Sales is 229.86.\n",
    ">+ The Sales is range from 0.44 to 22638.48, May be we have outliers in this column.\n",
    ">+ The average Quantity is 3.79.\n",
    ">+ The Quantity is range from 1 to 14.\n",
    ">+ The average Discount is 3.79.\n",
    ">+ The Discounts is range from 0 to 0.8.\n",
    ">+ The average Profit is 28.66.\n",
    ">+ The Profit is range from -6599.98 to 8399.97."
   ]
  },
  {
   "cell_type": "code",
   "execution_count": 7,
   "id": "52d72ef3",
   "metadata": {},
   "outputs": [
    {
     "data": {
      "text/plain": [
       "Standard Class    5968\n",
       "Second Class      1945\n",
       "First Class       1538\n",
       "Same Day           543\n",
       "Name: Ship Mode, dtype: int64"
      ]
     },
     "execution_count": 7,
     "metadata": {},
     "output_type": "execute_result"
    }
   ],
   "source": [
    "df['Ship Mode'].value_counts()"
   ]
  },
  {
   "cell_type": "code",
   "execution_count": 8,
   "id": "cc4e49f8",
   "metadata": {},
   "outputs": [
    {
     "data": {
      "text/plain": [
       "Consumer       5191\n",
       "Corporate      3020\n",
       "Home Office    1783\n",
       "Name: Segment, dtype: int64"
      ]
     },
     "execution_count": 8,
     "metadata": {},
     "output_type": "execute_result"
    }
   ],
   "source": [
    "df['Segment'].value_counts()"
   ]
  },
  {
   "cell_type": "code",
   "execution_count": 9,
   "id": "87680d39",
   "metadata": {},
   "outputs": [
    {
     "data": {
      "text/plain": [
       "United States    9994\n",
       "Name: Country, dtype: int64"
      ]
     },
     "execution_count": 9,
     "metadata": {},
     "output_type": "execute_result"
    }
   ],
   "source": [
    "df['Country'].value_counts()"
   ]
  },
  {
   "cell_type": "code",
   "execution_count": 10,
   "id": "0794e5a9",
   "metadata": {},
   "outputs": [
    {
     "data": {
      "text/plain": [
       "New York City      915\n",
       "Los Angeles        747\n",
       "Philadelphia       537\n",
       "San Francisco      510\n",
       "Seattle            428\n",
       "                  ... \n",
       "Glenview             1\n",
       "Missouri City        1\n",
       "Rochester Hills      1\n",
       "Palatine             1\n",
       "Manhattan            1\n",
       "Name: City, Length: 531, dtype: int64"
      ]
     },
     "execution_count": 10,
     "metadata": {},
     "output_type": "execute_result"
    }
   ],
   "source": [
    "df['City'].value_counts()"
   ]
  },
  {
   "cell_type": "code",
   "execution_count": 11,
   "id": "5902fa7c",
   "metadata": {},
   "outputs": [
    {
     "data": {
      "text/plain": [
       "California              2001\n",
       "New York                1128\n",
       "Texas                    985\n",
       "Pennsylvania             587\n",
       "Washington               506\n",
       "Illinois                 492\n",
       "Ohio                     469\n",
       "Florida                  383\n",
       "Michigan                 255\n",
       "North Carolina           249\n",
       "Arizona                  224\n",
       "Virginia                 224\n",
       "Georgia                  184\n",
       "Tennessee                183\n",
       "Colorado                 182\n",
       "Indiana                  149\n",
       "Kentucky                 139\n",
       "Massachusetts            135\n",
       "New Jersey               130\n",
       "Oregon                   124\n",
       "Wisconsin                110\n",
       "Maryland                 105\n",
       "Delaware                  96\n",
       "Minnesota                 89\n",
       "Connecticut               82\n",
       "Oklahoma                  66\n",
       "Missouri                  66\n",
       "Alabama                   61\n",
       "Arkansas                  60\n",
       "Rhode Island              56\n",
       "Utah                      53\n",
       "Mississippi               53\n",
       "Louisiana                 42\n",
       "South Carolina            42\n",
       "Nevada                    39\n",
       "Nebraska                  38\n",
       "New Mexico                37\n",
       "Iowa                      30\n",
       "New Hampshire             27\n",
       "Kansas                    24\n",
       "Idaho                     21\n",
       "Montana                   15\n",
       "South Dakota              12\n",
       "Vermont                   11\n",
       "District of Columbia      10\n",
       "Maine                      8\n",
       "North Dakota               7\n",
       "West Virginia              4\n",
       "Wyoming                    1\n",
       "Name: State, dtype: int64"
      ]
     },
     "execution_count": 11,
     "metadata": {},
     "output_type": "execute_result"
    }
   ],
   "source": [
    "df['State'].value_counts()"
   ]
  },
  {
   "cell_type": "code",
   "execution_count": 12,
   "id": "df6917a7",
   "metadata": {},
   "outputs": [
    {
     "data": {
      "text/plain": [
       "West       3203\n",
       "East       2848\n",
       "Central    2323\n",
       "South      1620\n",
       "Name: Region, dtype: int64"
      ]
     },
     "execution_count": 12,
     "metadata": {},
     "output_type": "execute_result"
    }
   ],
   "source": [
    "df['Region'].value_counts()"
   ]
  },
  {
   "cell_type": "code",
   "execution_count": 13,
   "id": "8a883024",
   "metadata": {},
   "outputs": [
    {
     "data": {
      "text/plain": [
       "Office Supplies    6026\n",
       "Furniture          2121\n",
       "Technology         1847\n",
       "Name: Category, dtype: int64"
      ]
     },
     "execution_count": 13,
     "metadata": {},
     "output_type": "execute_result"
    }
   ],
   "source": [
    "df['Category'].value_counts()"
   ]
  },
  {
   "cell_type": "code",
   "execution_count": 14,
   "id": "37af3678",
   "metadata": {},
   "outputs": [
    {
     "data": {
      "text/plain": [
       "Binders        1523\n",
       "Paper          1370\n",
       "Furnishings     957\n",
       "Phones          889\n",
       "Storage         846\n",
       "Art             796\n",
       "Accessories     775\n",
       "Chairs          617\n",
       "Appliances      466\n",
       "Labels          364\n",
       "Tables          319\n",
       "Envelopes       254\n",
       "Bookcases       228\n",
       "Fasteners       217\n",
       "Supplies        190\n",
       "Machines        115\n",
       "Copiers          68\n",
       "Name: Sub-Category, dtype: int64"
      ]
     },
     "execution_count": 14,
     "metadata": {},
     "output_type": "execute_result"
    }
   ],
   "source": [
    "df['Sub-Category'].value_counts()"
   ]
  },
  {
   "cell_type": "markdown",
   "id": "de916d5e",
   "metadata": {},
   "source": [
    "> We don't have input spelling mistakes in the dataset, But we need more investigation in the Sales column to make sure that we don't have outliers."
   ]
  },
  {
   "cell_type": "code",
   "execution_count": 15,
   "id": "53ae6b14",
   "metadata": {},
   "outputs": [
    {
     "data": {
      "text/plain": [
       "Ship Mode       662\n",
       "Segment         662\n",
       "Country         662\n",
       "City            662\n",
       "State           662\n",
       "Postal Code     662\n",
       "Region          662\n",
       "Category        662\n",
       "Sub-Category    662\n",
       "Sales           662\n",
       "Quantity        662\n",
       "Discount        662\n",
       "Profit          662\n",
       "dtype: int64"
      ]
     },
     "execution_count": 15,
     "metadata": {},
     "output_type": "execute_result"
    }
   ],
   "source": [
    "mean = df['Sales'].mean()\n",
    "Q3 = (df[df['Sales'] > mean])['Sales'].mean()\n",
    "df[df['Sales'] > Q3].count()"
   ]
  },
  {
   "cell_type": "markdown",
   "id": "ff79fc79",
   "metadata": {},
   "source": [
    "> There are 662 person buy with more than 75 persent of the sales. So, We don't gave outliers in this column"
   ]
  },
  {
   "cell_type": "markdown",
   "id": "de469529",
   "metadata": {},
   "source": [
    "<a id='cln'></a>\n",
    "> ### Data Cleaning"
   ]
  },
  {
   "cell_type": "markdown",
   "id": "cbbac5a8",
   "metadata": {},
   "source": [
    "> We only need to remove the duplicates rows."
   ]
  },
  {
   "cell_type": "code",
   "execution_count": 16,
   "id": "7cf788f4",
   "metadata": {},
   "outputs": [
    {
     "name": "stdout",
     "output_type": "stream",
     "text": [
      "<class 'pandas.core.frame.DataFrame'>\n",
      "Int64Index: 9977 entries, 0 to 9993\n",
      "Data columns (total 13 columns):\n",
      " #   Column        Non-Null Count  Dtype  \n",
      "---  ------        --------------  -----  \n",
      " 0   Ship Mode     9977 non-null   object \n",
      " 1   Segment       9977 non-null   object \n",
      " 2   Country       9977 non-null   object \n",
      " 3   City          9977 non-null   object \n",
      " 4   State         9977 non-null   object \n",
      " 5   Postal Code   9977 non-null   int64  \n",
      " 6   Region        9977 non-null   object \n",
      " 7   Category      9977 non-null   object \n",
      " 8   Sub-Category  9977 non-null   object \n",
      " 9   Sales         9977 non-null   float64\n",
      " 10  Quantity      9977 non-null   int64  \n",
      " 11  Discount      9977 non-null   float64\n",
      " 12  Profit        9977 non-null   float64\n",
      "dtypes: float64(3), int64(2), object(8)\n",
      "memory usage: 1.1+ MB\n"
     ]
    }
   ],
   "source": [
    "df.drop_duplicates(inplace = True)\n",
    "df.info()"
   ]
  },
  {
   "cell_type": "markdown",
   "id": "b135dbe9",
   "metadata": {},
   "source": [
    "<a id='eda'></a>\n",
    "# Data Exploratory\n",
    "\n",
    "> Now, we will explort the data to visualize it in **Tableau**"
   ]
  },
  {
   "cell_type": "code",
   "execution_count": 17,
   "id": "ad487f7d",
   "metadata": {},
   "outputs": [],
   "source": [
    "df.to_excel (r'C:\\Users\\Mo\\Desktop\\SampleSuperstore\\SampleSuperstore_cleaned.xlsx', index = False, header=True)"
   ]
  },
  {
   "cell_type": "markdown",
   "id": "8bc3a826",
   "metadata": {},
   "source": [
    "> You can access the dashboard and interact with it from the link below :\n",
    "> https://public.tableau.com/views/SampleSuperstore_16510596015010/Dashboard1?:language=en-US&publish=yes&:display_count=n&:origin=viz_share_link"
   ]
  },
  {
   "cell_type": "markdown",
   "id": "130d8fea",
   "metadata": {},
   "source": [
    "> From the Dashboard we find that :\n",
    "\n",
    ">+ The Total Sales for all regions is \\\\$2,296,196. \n",
    ">+ The Total Profit is \\\\$286,241. \n",
    ">+ The Total Orders is 37,820. \n",
    ">+ The Total Discounts is \\\\$1,559.19.\n",
    ">+ The Top 5 Sub-Categorize in USA in the order is Phones-Chairs-Storage-Tables-Binders.\n",
    ">+ The States with negative (-) total profit in the order are Texas, Ohio, Pennsylvania, Illinois, North Carolina, Colorado, Tennessee, Arizona, Florida and Oregon.\n",
    "\n",
    ">+ The west region is the best Sales region with  \\\\$108,330 Total Profit, \\\\$725,256 Total Sales, 12,234 Total Orders and \\\\$350 Total Discounts.\n",
    ">+ California in west region is the best profit state with \\\\$76,331 Total Profit, \\\\$457,576 Total Sales, 7,649 Total Orders and \\\\$145.6 Total Discounts.\n",
    ">+ In California, Los Angeles is the best profit city with \\\\$30,431 Total Profit, \\\\$175,832 Total Sales, 2,876 Total Orders and \\\\$55.5 Total Discounts.\n",
    ">+ The most of the orders in Los Angeles dilever with Standard Class Ship Mode.\n",
    ">+ The Top 5 Sub-Categorize in Los Angeles in the order is Phones-Tables-Storage-Accessories-Chairs.\n",
    "\n",
    ">+ The south region is the worst Sales region with \\\\$46,749 Total Profit, \\\\$391,722 Total Sales, 6,209 Total Orders and \\\\$238.55 Total Discounts.\n",
    ">+ Texas in the central region is the worst profit state with \\\\$-25,751 Total Profit, \\\\$170,125 Total Sales, 3,718 Total Orders and \\\\$364.24 Total Discounts.\n",
    ">+ In Texas, Houston is the worst profit city with \\\\$-10,175 Total Profit, \\\\$64,441 Total Sales, 1,460 Total Orders and \\\\$142.74 Total Discounts.\n",
    ">+ The most of the orders in Houston dilever with Standard Class Ship Mode.\n",
    ">+ The Top 5 Sub-Categorize in Houston in the order is Phones-Chairs-Bookcases-Machines-Storage."
   ]
  },
  {
   "cell_type": "markdown",
   "id": "bb895b94",
   "metadata": {},
   "source": [
    "<a id='conc'></a>\n",
    "# Conclusions\n",
    "\n",
    "> We have explore and visualize the superstore dataset and discover that:\n",
    ">+ The sales team need to focus on selling more products in **South region**.\n",
    ">+ The states we need to work to make more profit from them are **Texas**, **Ohio**, **Pennsylvania**, **Illinois**, **North Carolina**, **Colorado**, **Tennessee**, **Arizona**, **Florida** and **Oregon**.\n",
    ">+ The marketing team in the south region need to focus in promoting the products that will make more profit for us and maybe they can get benefit from the west region marketing plan.\n",
    ">+ We need to minimize the number of orders that dilever with Same Day ship mode, First Class ship mode and Second class ship mode for all regions.\n",
    ">+ We need to minimize the discounds and focus on when and in which orders we make it."
   ]
  }
 ],
 "metadata": {
  "kernelspec": {
   "display_name": "Python 3 (ipykernel)",
   "language": "python",
   "name": "python3"
  },
  "language_info": {
   "codemirror_mode": {
    "name": "ipython",
    "version": 3
   },
   "file_extension": ".py",
   "mimetype": "text/x-python",
   "name": "python",
   "nbconvert_exporter": "python",
   "pygments_lexer": "ipython3",
   "version": "3.8.8"
  }
 },
 "nbformat": 4,
 "nbformat_minor": 5
}
